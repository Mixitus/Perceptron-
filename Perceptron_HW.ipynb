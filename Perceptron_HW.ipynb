{
 "nbformat": 4,
 "nbformat_minor": 0,
 "metadata": {
  "colab": {
   "provenance": []
  },
  "kernelspec": {
   "name": "python3",
   "language": "python",
   "display_name": "Python 3 (ipykernel)"
  },
  "language_info": {
   "name": "python"
  }
 },
 "cells": [
  {
   "cell_type": "code",
   "source": [
    "import numpy as np\n",
    "from sklearn.preprocessing import StandardScaler\n",
    "from sklearn.linear_model import Perceptron\n",
    "from sklearn.metrics import accuracy_score\n",
    "from sklearn.datasets import load_iris\n",
    "from sklearn.model_selection import train_test_split\n",
    "from sklearn.metrics import accuracy_score"
   ],
   "metadata": {
    "id": "Nw8lT9JmW3w9",
    "ExecuteTime": {
     "end_time": "2024-04-13T04:01:46.170746Z",
     "start_time": "2024-04-13T04:01:43.930481Z"
    }
   },
   "execution_count": 1,
   "outputs": []
  },
  {
   "cell_type": "code",
   "source": [
    "# load the iris dataset, create features and labels\n",
    "df = load_iris()\n",
    "X = df.data\n",
    "y = df.target\n",
    "\n",
    "# Split the data into training and testing sets\n",
    "X_train, X_test, y_train, y_test = train_test_split(X, y, test_size=0.3, random_state=42)"
   ],
   "metadata": {
    "id": "QTNDCRLOXWEA",
    "ExecuteTime": {
     "end_time": "2024-04-13T04:01:47.659916Z",
     "start_time": "2024-04-13T04:01:47.628502Z"
    }
   },
   "execution_count": 2,
   "outputs": []
  },
  {
   "cell_type": "code",
   "execution_count": 3,
   "metadata": {
    "colab": {
     "base_uri": "https://localhost:8080/"
    },
    "id": "MtD7AJr5Wu44",
    "outputId": "f2702fa6-55d5-413f-80a8-affa235a9d7e",
    "ExecuteTime": {
     "end_time": "2024-04-13T04:01:48.729446Z",
     "start_time": "2024-04-13T04:01:48.662735Z"
    }
   },
   "outputs": [
    {
     "name": "stdout",
     "output_type": "stream",
     "text": [
      "Train Accuracy: 0.94\n",
      "Test Accuracy: 0.93\n"
     ]
    }
   ],
   "source": [
    "# Standardize features\n",
    "scaler = StandardScaler()\n",
    "X_train_scaled = scaler.fit_transform(X_train)\n",
    "X_test_scaled = scaler.transform(X_test)\n",
    "\n",
    "# Initialize and train the perceptron model\n",
    "perceptron = Perceptron()\n",
    "perceptron.fit(X_train_scaled, y_train)\n",
    "\n",
    "# Make predictions\n",
    "y_pred_train = perceptron.predict(X_train_scaled)\n",
    "y_pred_test = perceptron.predict(X_test_scaled)\n",
    "\n",
    "# Evaluate accuracy\n",
    "train_accuracy = accuracy_score(y_train, y_pred_train)\n",
    "test_accuracy = accuracy_score(y_test, y_pred_test)\n",
    "\n",
    "print(f\"Train Accuracy: {train_accuracy:.2f}\")\n",
    "print(f\"Test Accuracy: {test_accuracy:.2f}\")"
   ]
  },
  {
   "cell_type": "code",
   "source": [
    "class Perceptron:\n",
    "  # in the slides, the learning_rate is equal to 1.\n",
    "  # n_iters=1000 is the default value for from sklearn.linear_model import Perceptron.\n",
    "\n",
    "    def __init__(self, learning_rate=0.01, n_iters=1000):\n",
    "        self.learning_rate = learning_rate\n",
    "        self.n_iters = n_iters\n",
    "        self.weights = None\n",
    "        self.bias = None\n",
    "\n",
    "    def fit(self, X, y):\n",
    "        n_samples, n_features = X.shape\n",
    "        self.weights = np.zeros(n_features)\n",
    "        self.bias = 0\n",
    "        #self.bias = np.mean(X, axis=0)\n",
    "\n",
    "        for _ in range(self.n_iters):\n",
    "            for idx, x_i in enumerate(X):\n",
    "                linear_output = np.dot(x_i, self.weights) + self.bias\n",
    "                y_predicted = self.activation(linear_output)\n",
    "\n",
    "                if y[idx] != y_predicted:\n",
    "                    self.weights += self.learning_rate * y[idx] * x_i\n",
    "\n",
    "    def activation(self, x):\n",
    "        return np.where(x >= 0, 1, -1)\n",
    "\n",
    "    def predict(self, X):\n",
    "        linear_output = np.dot(X, self.weights) + self.bias\n",
    "        y_predicted = self.activation(linear_output)\n",
    "        return y_predicted\n",
    "\n",
    "# Load the Iris dataset\n",
    "iris = load_iris()\n",
    "X2 = iris.data\n",
    "y2 = iris.target\n",
    "\n",
    "# Convert labels to binary classification problem\n",
    "class1 = 0  # the first feature will be class one\n",
    "class2 = [1, 2] # combine the other two for second class\n",
    "y_binary = [1 if label == class1 else 0 for label in y2]\n",
    "\n",
    "# Split data into train and test sets\n",
    "X_train2, X_test2, y_train2, y_test2 = train_test_split(X2, y_binary, test_size=0.3, random_state=42)\n",
    "\n",
    "# Initialize and train the perceptron model\n",
    "model = Perceptron()\n",
    "model.fit(X_train2, y_train2)\n",
    "\n",
    "# Make predictions\n",
    "y_pred_train2 = model.predict(X_train2)\n",
    "y_pred_test2 = model.predict(X_test2)\n",
    "\n",
    "# Evaluate accuracy\n",
    "train_accuracy2 = accuracy_score(y_train2, y_pred_train2)\n",
    "test_accuracy2 = accuracy_score(y_test2, y_pred_test2)\n",
    "\n",
    "print(f\"Train Accuracy: {train_accuracy2:.2f}\")\n",
    "print(f\"Test Accuracy: {test_accuracy2:.2f}\")\n",
    "\n",
    "# fill the blanks."
   ],
   "metadata": {
    "colab": {
     "base_uri": "https://localhost:8080/"
    },
    "id": "rWL99OhqZJpF",
    "outputId": "9c53b57d-d175-4726-b144-020a5094dd07",
    "ExecuteTime": {
     "end_time": "2024-04-13T04:01:52.713131Z",
     "start_time": "2024-04-13T04:01:50.135163Z"
    }
   },
   "execution_count": 4,
   "outputs": [
    {
     "name": "stdout",
     "output_type": "stream",
     "text": [
      "Train Accuracy: 0.30\n",
      "Test Accuracy: 0.42\n"
     ]
    }
   ]
  },
  {
   "cell_type": "code",
   "outputs": [],
   "source": [],
   "metadata": {
    "collapsed": false
   }
  }
 ]
}
